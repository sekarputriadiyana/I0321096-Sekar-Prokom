{
 "cells": [
  {
   "cell_type": "markdown",
   "metadata": {},
   "source": [
    "***\n",
    "<h1 align=\"center\">Exercise 07</h1>\n",
    "\n",
    "***\n",
    "## Memanggil Fungsi\n",
    "\n",
    "### 1. Fungsi tanpa Nilai Balik\n",
    "Buatlah kode seperti contoh berikut pada cell di bawah\n",
    "> Ubah variabel **cetak** sesuai dengan **umur** kalian!\n",
    "\n",
    "![](./images/07_TanpaNB.png)"
   ]
  },
  {
   "cell_type": "code",
   "execution_count": 1,
   "metadata": {},
   "outputs": [
    {
     "name": "stdout",
     "output_type": "stream",
     "text": [
      "Umur=  19\n"
     ]
    }
   ],
   "source": [
    "#kerjakan disini\n",
    "cetak = 19\n",
    "print(\"Umur= \", cetak)"
   ]
  },
  {
   "cell_type": "markdown",
   "metadata": {},
   "source": [
    "### 2. Fungsi dengan Nilai Balik\n",
    "Buatlah kode seperti contoh berikut pada cell di bawah\n",
    "> Ubah variabel **x** dengan 2 digit terakhir **NIM** kalian!\n",
    "\n",
    "> Ubah variabel **y** dengan **angka 7**!\n",
    "\n",
    "![](./images/07_DenganNB.png)"
   ]
  },
  {
   "cell_type": "code",
   "execution_count": 3,
   "metadata": {},
   "outputs": [
    {
     "name": "stdout",
     "output_type": "stream",
     "text": [
      "x = 96\n",
      "y = 7\n",
      "hasil (x+y)=  103\n"
     ]
    }
   ],
   "source": [
    "#Kerjakan disini!\n",
    "x = 96\n",
    "y = 7\n",
    "print(\"x =\", x)\n",
    "print(\"y =\", y)\n",
    "print(\"hasil (x+y)= \", x+y)"
   ]
  },
  {
   "cell_type": "markdown",
   "metadata": {},
   "source": [
    "## Variabel Global dan Variabel Lokal\n",
    "Buatlah kode seperti contoh berikut pada cell di bawah\n",
    "> Pada variabel global, ubah **nama** menjadi **nama panggilan** kalian!\n",
    "\n",
    "> Pada variabel lokal, ubah **nama** menjadi **nama lengkap** kalian!\n",
    "\n",
    "![](./images/07_GlobalLokal.png)"
   ]
  },
  {
   "cell_type": "code",
   "execution_count": 2,
   "metadata": {},
   "outputs": [
    {
     "name": "stdout",
     "output_type": "stream",
     "text": [
      "nama = Sekar\n",
      "tahun = 2021\n",
      "nama = Sekar Putri Adiyana\n",
      "tahun = 21\n"
     ]
    }
   ],
   "source": [
    "#Kerjakan disini\n",
    "nama = \"Sekar\"\n",
    "tahun = 2021\n",
    "def help():\n",
    "    nama = \"Sekar Putri Adiyana\"\n",
    "    tahun = 21\n",
    "    print(\"nama = %s\" % nama)\n",
    "    print(\"tahun = %s\" % tahun)\n",
    "print(\"nama = %s\" % nama)\n",
    "print(\"tahun = %s\" % tahun)\n",
    "help()"
   ]
  },
  {
   "cell_type": "markdown",
   "metadata": {},
   "source": [
    "## Parameter di Dalam Fungsi\n",
    "Buatlah kode seperti contoh berikut pada cell di bawah\n",
    "\n",
    "![](./images/07_Parameter.png)"
   ]
  },
  {
   "cell_type": "code",
   "execution_count": 8,
   "metadata": {},
   "outputs": [
    {
     "name": "stdout",
     "output_type": "stream",
     "text": [
      "x =  2.0\n",
      "y =  9.0\n"
     ]
    }
   ],
   "source": [
    "#Kerjakan disini\n",
    "import math\n",
    "def main():\n",
    "    x = math.sqrt(4)\n",
    "    y = math.sqrt(81)\n",
    "    print(\"x = \", x)\n",
    "    print(\"y = \", y)\n",
    "main()"
   ]
  },
  {
   "cell_type": "markdown",
   "metadata": {},
   "source": [
    "## Fungsi di Dalam Fungsi\n",
    "Buatlah kode seperti contoh berikut pada cell di bawah\n",
    "> Ubah parameter **start_minute** dan **start_second** dengan waktu yang kalian inginkan\n",
    "\n",
    "![](./images/07_FungsidlmFungsi.png)"
   ]
  },
  {
   "cell_type": "code",
   "execution_count": 16,
   "metadata": {},
   "outputs": [
    {
     "name": "stdout",
     "output_type": "stream",
     "text": [
      "Done!\n"
     ]
    }
   ],
   "source": [
    "#Kerjakan disini\n",
    "import time\n",
    "def countdownTimer(start_minute, start_second):\n",
    "    total_second = start_minute * 60 + start_second\n",
    "    while total_second:\n",
    "        mins, secs = divmod(total_second, 60)\n",
    "        print(f'{mins:02d}:{secs:02d}', end='\\r')\n",
    "        time.sleep(1)\n",
    "        total_second -= 1\n",
    "def main():\n",
    "    countdownTimer(0,96)\n",
    "    print(\"Done!\")\n",
    "\n",
    "main()"
   ]
  },
  {
   "cell_type": "markdown",
   "metadata": {},
   "source": [
    "## Fungsi yang Mengembalikan Fungsi\n",
    "Buatlah kode seperti contoh berikut pada cell di bawah\n",
    "\n",
    "![](./images/07_Mengembalikan.png)"
   ]
  },
  {
   "cell_type": "code",
   "execution_count": 13,
   "metadata": {},
   "outputs": [
    {
     "name": "stdout",
     "output_type": "stream",
     "text": [
      "HELLO WORLD\n"
     ]
    }
   ],
   "source": [
    "#Kerjakan disini\n",
    "def panggil(func):\n",
    "    return func\n",
    "def helloworld():\n",
    "    return \"HELLO WORLD\"\n",
    "def main():\n",
    "    s = panggil(helloworld())\n",
    "    print(s)\n",
    "if __name__ == '__main__':\n",
    "    main()"
   ]
  },
  {
   "cell_type": "markdown",
   "metadata": {},
   "source": [
    "## Membuat Fungsi Tanpa Nama dengan Operator Lambda\n",
    "Buatlah kode seperti contoh berikut pada cell di bawah\n",
    "> Ubah list **daftarnama** menjadi tiap **suku kata nama** kalian dengan campuran huruf kapital dan huruf kecil!\n",
    "\n",
    "![](./images/07_Lambda.png)"
   ]
  },
  {
   "cell_type": "code",
   "execution_count": 18,
   "metadata": {},
   "outputs": [
    {
     "name": "stdout",
     "output_type": "stream",
     "text": [
      "Keadaan Awal\n",
      "['Se', 'kar', 'Pu', 'tri']\n",
      "\n",
      "Menggunakan sorted():\n",
      "['Pu', 'Se', 'kar', 'tri']\n",
      "\n",
      "Keadaan Akhir:\n",
      "['kar', 'Pu', 'Se', 'tri']\n"
     ]
    }
   ],
   "source": [
    "#Kerjakan disini\n",
    "def main():\n",
    "    daftarnama = [\"Se\", \"kar\", \"Pu\", \"tri\"]\n",
    "    print(\"Keadaan Awal\")\n",
    "    print(daftarnama)\n",
    "\n",
    "    print(\"\\nMenggunakan sorted():\")\n",
    "    print(sorted(daftarnama))\n",
    "\n",
    "    daftarnama.sort(key=lambda n: n.lower())\n",
    "\n",
    "    print(\"\\nKeadaan Akhir:\")\n",
    "    print(daftarnama)\n",
    "if __name__ == '__main__':\n",
    "    main()"
   ]
  },
  {
   "cell_type": "markdown",
   "metadata": {},
   "source": [
    "## Rekursi\n",
    "Buatlah kode seperti contoh berikut pada cell di bawah\n",
    "> Inputkan bilangan bebas pada kotak kolom di bagian atas\n",
    "\n",
    "![](./images/07_Rekursi.png)"
   ]
  },
  {
   "cell_type": "code",
   "execution_count": 22,
   "metadata": {},
   "outputs": [
    {
     "name": "stdout",
     "output_type": "stream",
     "text": [
      "7! = 5040\n"
     ]
    }
   ],
   "source": [
    "#Kerjakan disini\n",
    "import sys\n",
    "def faktorial(n):\n",
    "    if n == 0:\n",
    "        return 1\n",
    "    else:\n",
    "        return n * faktorial(n-1)\n",
    "def main():\n",
    "    bil = int(input(\"Masukkan bilangan = \"))\n",
    "    if bil<0:\n",
    "        print(\"ERROR\")\n",
    "        sys.exit(1)\n",
    "    print(\"%d! = %d\" % (bil, faktorial(bil)))\n",
    "if __name__ == '__main__':\n",
    "    main()"
   ]
  },
  {
   "cell_type": "markdown",
   "metadata": {},
   "source": [
    "### Membuat kode\n",
    "Buatlah sebuah program yang dapat mengurutkan nama bulan secara alfabetis, dengan ketentuan sebagai berikut:\n",
    "- Data awal berupa list bulan Januari - Desember dengan huruf awal bervariasi (huruf kapital dan kecil)\n",
    "- Urutkan nama menggunakan **sorted()**\n",
    "- Kemudian urutkan nama sesuai abjad tanpa mepedulikan huruf awal (huruf kapital atau huruf kecil)"
   ]
  },
  {
   "cell_type": "code",
   "execution_count": 23,
   "metadata": {},
   "outputs": [
    {
     "name": "stdout",
     "output_type": "stream",
     "text": [
      "Keadaan Awal\n",
      "['maret', 'Juni', 'November', 'Januari', 'Mei', 'juli', 'november', 'September', 'Februari', 'desember', 'April', 'Oktober']\n",
      "\n",
      "Menggunakan sorted():\n",
      "['April', 'Februari', 'Januari', 'Juni', 'Mei', 'November', 'Oktober', 'September', 'desember', 'juli', 'maret', 'november']\n",
      "\n",
      "Keadaan Akhir:\n",
      "['April', 'desember', 'Februari', 'Januari', 'juli', 'Juni', 'maret', 'Mei', 'November', 'november', 'Oktober', 'September']\n"
     ]
    }
   ],
   "source": [
    "def main():\n",
    "    listbulan = [\"Januari\", \"Februari\", \"maret\", \"April\", \"Mei\", \"Juni\", \"juli\", \"agustus\", \"September\", \"Oktober\", \"november\", \"desember\"]\n",
    "    print(\"Keadaan Awal\")\n",
    "    print(listbulan)\n",
    "\n",
    "    print(\"\\nMenggunakan sorted():\")\n",
    "    print(sorted(listbulan))\n",
    "\n",
    "    listbulan.sort(key=lambda n: n.lower())\n",
    "\n",
    "    print(\"\\nKeadaan Akhir:\")\n",
    "    print(listbulan)\n",
    "if __name__ == '__main__':\n",
    "    main()"
   ]
  },
  {
   "cell_type": "markdown",
   "metadata": {},
   "source": [
    "### Cara Pengumpulan\n",
    "\n",
    "1. Buka *New Terminal*\n",
    "2. Pastikan *path* Terminal adalah folder repositori kalian (NIM-Nama-Prokom).\n",
    "3. Tambahkan file yang akan ditrack dengan `git add <nama file>`. Nama file bisa diubah . (titik) yang artinya semua file dalam folder akan ditrack.\n",
    "4. Lakukan commit perubahan dengan `git commit -m <deskripsi>`.\n",
    "5. Lakukan push dengan `git push -u origin <nama branch>`. Nama branch dapat diketahui dengan `git branch`.\n",
    "6. Pastikan Exercise-07 telah terupload dan dapat diakses di repositori dengan mengaksesnya di browser."
   ]
  },
  {
   "cell_type": "markdown",
   "metadata": {},
   "source": [
    "***\n",
    "<h1 align=\"center\">Well Done!!!</h1> \n",
    "\n",
    "***"
   ]
  }
 ],
 "metadata": {
  "interpreter": {
   "hash": "ac59ebe37160ed0dfa835113d9b8498d9f09ceb179beaac4002f036b9467c963"
  },
  "kernelspec": {
   "display_name": "Python 3.9.8 64-bit",
   "language": "python",
   "name": "python3"
  },
  "language_info": {
   "codemirror_mode": {
    "name": "ipython",
    "version": 3
   },
   "file_extension": ".py",
   "mimetype": "text/x-python",
   "name": "python",
   "nbconvert_exporter": "python",
   "pygments_lexer": "ipython3",
   "version": "3.8.6"
  },
  "orig_nbformat": 4
 },
 "nbformat": 4,
 "nbformat_minor": 2
}
