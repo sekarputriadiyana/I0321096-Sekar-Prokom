{
 "cells": [
  {
   "cell_type": "markdown",
   "metadata": {},
   "source": [
    "***\n",
    "<h1 align=\"center\">Exercise 06</h1>\n",
    " \n",
    "***\n",
    "## While Loop\n",
    "## Exercise 6.1\n",
    "isilah bagian rumpang berikut. xx diganti tanggal lahir dan yy diganti menjadi bulan lahir. tandanya menyesuaikan yang lebih besar."
   ]
  },
  {
   "cell_type": "code",
   "execution_count": 1,
   "metadata": {},
   "outputs": [
    {
     "name": "stdout",
     "output_type": "stream",
     "text": [
      "hidup untuk makan\n",
      "hidup untuk makan\n",
      "hidup untuk makan\n",
      "hidup untuk makan\n",
      "hidup untuk makan\n",
      "hidup untuk makan\n",
      "hidup untuk makan\n",
      "hidup untuk makan\n",
      "hidup untuk makan\n",
      "hidup untuk makan\n"
     ]
    }
   ],
   "source": [
    "#menentukan banyak pengulangan\n",
    "n = 12\n",
    "\n",
    "#melakukan pengulangan\n",
    "i = 3\n",
    "\n",
    "while i <= n :\n",
    "    print (\"hidup untuk makan\")\n",
    "    #diisi motto kalian\n",
    "    i = i + 1 # sesuaikan dengan atas agar fungsi perulangan dapat berhenti\n"
   ]
  },
  {
   "cell_type": "markdown",
   "metadata": {},
   "source": [
    "## Exercise 6.2\n",
    "\n",
    "Buatlah code seperti yang dicontohkan pada modul agar user dapat menginputkan sendiri jumlah n yang diinginkan"
   ]
  },
  {
   "cell_type": "code",
   "execution_count": 4,
   "metadata": {},
   "outputs": [
    {
     "name": "stdout",
     "output_type": "stream",
     "text": [
      "6\n",
      "7\n",
      "8\n",
      "9\n",
      "10\n",
      "11\n",
      "12\n",
      "13\n",
      "14\n",
      "15\n",
      "16\n",
      "17\n",
      "18\n",
      "19\n",
      "20\n"
     ]
    }
   ],
   "source": [
    "#Kerjakan disini\n",
    "n = int(input(\"Masukkan nilai n = \"))\n",
    "i = 6\n",
    "while i <= n:\n",
    "    print (i)\n",
    "    i = i + 1"
   ]
  },
  {
   "cell_type": "markdown",
   "metadata": {},
   "source": [
    "## Excercise 6.3\n",
    "\n",
    "isilah xx, yy, dan tanda rumpang seperti pada exercise 6.1\n"
   ]
  },
  {
   "cell_type": "code",
   "execution_count": 24,
   "metadata": {},
   "outputs": [
    {
     "name": "stdout",
     "output_type": "stream",
     "text": [
      "Baris ke-12 : Pitch Perfect\n",
      "Baris ke-11 : Pitch Perfect\n",
      "Baris ke-10 : Pitch Perfect\n",
      "Baris ke-9 : Pitch Perfect\n",
      "Baris ke-8 : Pitch Perfect\n",
      "Baris ke-7 : Pitch Perfect\n",
      "Baris ke-6 : Pitch Perfect\n",
      "Baris ke-5 : Pitch Perfect\n",
      "Baris ke-4 : Pitch Perfect\n",
      "Baris ke-3 : Pitch Perfect\n"
     ]
    }
   ],
   "source": [
    "#melakukan pengulangan\n",
    "i = 12\n",
    "\n",
    "while i >= 3 :\n",
    "    print (\"Baris ke-%d : Pitch Perfect\"%i)\n",
    "    #isi titik-titik dengan judul film favorit kalian\n",
    "    i = i - 1"
   ]
  },
  {
   "cell_type": "markdown",
   "metadata": {},
   "source": [
    "## FOR LOOP\n",
    "\n",
    "## Exercise 6.4\n",
    "\n",
    "munculkan 3 dari 7 elemen yang berada di dalam list1 dan list2\n"
   ]
  },
  {
   "cell_type": "code",
   "execution_count": 68,
   "metadata": {},
   "outputs": [
    {
     "name": "stdout",
     "output_type": "stream",
     "text": [
      "1 Serabi Solo\n",
      "2 Gethuk Jogja\n",
      "3 Brownies Semarang\n"
     ]
    }
   ],
   "source": [
    "list1 = [\"Serabi\", \"Gethuk\", \"Brownies\", \"Bolu\", \"Pancong\", \"Pukis\", \"Batagor\"] #masukkan 7 list makanan favorit kalian\n",
    "list2 = [\"Solo\", \"Jogja\", \"Semarang\", \"Bandung\", \"Bekasi\", \"Bogor\", \"Malang\"] #masukkan 7 list kota favorit kalian\n",
    "\n",
    "for i in range(0, 3) :\n",
    "    print(i+1, list1[i], list2[i])"
   ]
  },
  {
   "cell_type": "markdown",
   "metadata": {},
   "source": [
    "## Perulangan Bersarang\n",
    "\n",
    "## Exercise 6.5"
   ]
  },
  {
   "cell_type": "code",
   "execution_count": 53,
   "metadata": {},
   "outputs": [
    {
     "name": "stdout",
     "output_type": "stream",
     "text": [
      "144 \n",
      "132 121 \n",
      "120 110 100 \n",
      "108 99 90 81 \n",
      "96 88 80 72 64 \n",
      "84 77 70 63 56 49 \n",
      "72 66 60 54 48 42 36 \n",
      "60 55 50 45 40 35 30 25 \n",
      "48 44 40 36 32 28 24 20 16 \n",
      "36 33 30 27 24 21 18 15 12 9 \n"
     ]
    }
   ],
   "source": [
    "i = 12\n",
    "while i >= 3:\n",
    "    j = 12\n",
    "    while j>=i:\n",
    "        print(\"%d \" % (i*j), end = '')\n",
    "        j = j - 1\n",
    "    print()\n",
    "    i-=1"
   ]
  },
  {
   "cell_type": "markdown",
   "metadata": {},
   "source": [
    "## Pernyataan Loncat\n",
    "\n",
    "## Exercise 6.\n",
    "\n",
    "Buatlah fungsi berikut agar muncul angka hingga berhenti sesuai dengan nilai qq\n",
    "qq = angka favorit kalian\n",
    "pp>qq"
   ]
  },
  {
   "cell_type": "code",
   "execution_count": 40,
   "metadata": {},
   "outputs": [
    {
     "name": "stdout",
     "output_type": "stream",
     "text": [
      "01234567891011121314151617181920212223"
     ]
    }
   ],
   "source": [
    "for i in range(27):\n",
    "    print(i,end='')\n",
    "    if i == 23:\n",
    "        break"
   ]
  },
  {
   "cell_type": "markdown",
   "metadata": {},
   "source": [
    "***\n",
    "<h1 align=\"center\">WELL DONE</h1>\n",
    " \n",
    "***"
   ]
  }
 ],
 "metadata": {
  "interpreter": {
   "hash": "cd08f94adcf3cbae37fe85286256f4c2a10455ca9094fd053e9f3d3f09647223"
  },
  "kernelspec": {
   "display_name": "Python 3.9.7 64-bit",
   "language": "python",
   "name": "python3"
  },
  "language_info": {
   "codemirror_mode": {
    "name": "ipython",
    "version": 3
   },
   "file_extension": ".py",
   "mimetype": "text/x-python",
   "name": "python",
   "nbconvert_exporter": "python",
   "pygments_lexer": "ipython3",
   "version": "3.7.0"
  },
  "orig_nbformat": 4
 },
 "nbformat": 4,
 "nbformat_minor": 2
}
